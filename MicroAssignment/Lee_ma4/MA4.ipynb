{
 "cells": [
  {
   "cell_type": "markdown",
   "metadata": {},
   "source": [
    "# [CptS 215 Data Analytics Systems and Algorithms](https://piazza.com/wsu/fall2017/cpts215/home)\n",
    "[Washington State University](https://wsu.edu)\n",
    "\n",
    "[Srini Badri](https://school.eecs.wsu.edu/people/faculty/), [Gina Sprint](http://eecs.wsu.edu/~gsprint/)\n",
    "\n",
    "## MA4 Algorithm Analysis (50 pts)\n",
    "<mark>Author: Nam Jun Lee</mark>\n",
    "\n",
    "<mark>Date: Oct 14th, 2021</mark>\n",
    "\n",
    "### Learner Objectives\n",
    "At the conclusion of this micro assignment, participants should be able to:\n",
    "* Derive4growth rate functions\n",
    "* Analyze algorithms for efficiency in terms of time and space complexity\n",
    "\n",
    "### Prerequisites\n",
    "Before starting this micro assignment, participants should be able to:\n",
    "* Implement/analyze algorithms\n",
    "* Write Markdown and code cells in Jupyter Notebook\n",
    "* Type set equations using Latex\n",
    "\n",
    "### Acknowledgments\n",
    "Content used in this assignment is based upon information in the following sources:\n",
    "* A WSU CptS 223 assignment by [Aaron Crandall](http://eecs.wsu.edu/~acrandal/)."
   ]
  },
  {
   "cell_type": "markdown",
   "metadata": {
    "collapsed": true
   },
   "source": [
    "## Overview and Requirements\n",
    "For this micro assignment, you are going to download this Jupyter Notebook and answer the following questions. Your answer for a problem should be in a cell *immediately* after the problem cell. *Do not modify the problem cell.*"
   ]
  },
  {
   "cell_type": "markdown",
   "metadata": {},
   "source": [
    "### Problem 1 (8 pts)\n",
    "A program takes 20 seconds for input size 250 (i.e., n=250). Ignoring the effect of constants, approximately how much time can the same program be expected to take if the input size is increased to 1000 given the following run-time complexities? \n",
    "1.\t$\\mathcal{O}(N)$\n",
    "2.\t$\\mathcal{O}(N log N)$\n",
    "3.\t$\\mathcal{O}(N^{3})$\n",
    "4.\t$\\mathcal{O}(2^{N})$"
   ]
  },
  {
   "cell_type": "markdown",
   "metadata": {},
   "source": [
    "#### Problem 1 Answer:\n",
    "1.\t$\\mathcal{O}(N)$\n",
    " + $\\frac{1000}{250}$ = $\\frac{N}{20}$ \n",
    " + = $N$ = **80** Second\n",
    "1.\t$\\mathcal{O}(N log N)$\n",
    " + $\\frac{1000 log(1000)}{250 log(250)}$ = $\\frac{N}{20}$\n",
    " + = $N$ = **100.08590...** Second\n",
    "1.\t$\\mathcal{O}(N^{3})$\n",
    " + $\\frac{1000^3}{250^3}$ = $\\frac{N}{20}$\n",
    " + = $N$ = **1280** Second\n",
    "1.\t$\\mathcal{O}(2^{N})$\n",
    " + $\\frac{2^{1000}}{2^{250}}$ = $\\frac{N}{20}$\n",
    " + = $N$ = **1.184477e+227** Second"
   ]
  },
  {
   "cell_type": "markdown",
   "metadata": {},
   "source": [
    "### Problem 2 (8 pts)\n",
    "Given the following two functions:\n",
    "\n",
    "```python\n",
    "def f(n):\n",
    "   if n <= 0:\n",
    "      return 0\n",
    "   return 1 + f(n - 1)\n",
    "```\n",
    "\n",
    "```python\n",
    "def g(n):\n",
    "   summ = 0\n",
    "   for i in range(0, n, 1):\n",
    "      summ += 1\n",
    "   return summ\n",
    "```\n",
    "\n",
    "1. (3 pts) State the runtime complexity of both `f()` and `g()`\n",
    "1. (3 pts) State the memory (space) complexity for both `f()` and `g()`\n",
    "1. (2 pts) Write another function called `h(n)` that does the same thing, but is significantly faster."
   ]
  },
  {
   "cell_type": "markdown",
   "metadata": {},
   "source": [
    "#### Problem 2 Answer:\n",
    "1. `f()`: $\\mathcal{O}(N)$\n",
    " + This is recursion function. So, it runs n time for n = 0 to n.  \n",
    "   `g()`: $\\mathcal{O}(N)$\n",
    " + This is for loop function. So, it runs n time for loop.\n",
    "1. `f()`: $\\mathcal{O}(N)$\n",
    " + Since this function is recursively called until n is less than 0, the stack stores both n and 0.\n",
    "   `g()`: $\\mathcal{O}(1)$\n",
    " + Regardless of the value of n, only n, i, and summ variables are stored in the stack.\n",
    "1. `h(n)`:\n",
    "```python\n",
    "def h(n):\n",
    "    b = 1\n",
    "    return 1 + b * (n - 1) \n",
    "``` \n",
    " + Time complexity: $\\mathcal{O}(1)$  \n",
    " + Space complexity: $\\mathcal{O}(1)$  \n",
    " + This `h()` function more faster than both `f()` and `g()` function.  \n",
    " + $\\mathcal{O}(1) < \\mathcal{O}(N)$\n"
   ]
  },
  {
   "cell_type": "markdown",
   "metadata": {},
   "source": [
    "### Problem 3 (8 pts)\n",
    "State `g(n)`'s runtime complexity:\n",
    "\n",
    "```python\n",
    "def f(n):\n",
    "   if n <= 1:\n",
    "      return 1\n",
    "   return 1 + f(n/2)\n",
    "\n",
    "def g(n):\n",
    "   i = 1\n",
    "   while i < n:\n",
    "       f(i)\n",
    "       i *= 2\n",
    "```"
   ]
  },
  {
   "cell_type": "markdown",
   "metadata": {},
   "source": [
    "#### Problem 3 Answer:\n",
    "`f(n)` is recursion function.  \n",
    " * $T(n) = T(n/2) + \\mathcal{O}(1)$  \n",
    " * This time complexity is $\\mathcal{O}(log N)$\n",
    "\n",
    "`g(n)`:\n",
    " * while loop iterate log(n) times, call `f(n)`, and increment twice of i. \n",
    " * Therefore `g(n)`'s run time complexity: $\\mathcal{O}(log N) * \\mathcal{O}(log N)$\n",
    " * = $\\mathcal{O}(log N)^2$\n",
    "\n"
   ]
  },
  {
   "cell_type": "markdown",
   "metadata": {},
   "source": [
    "### Problem 4 (8 pts)\n",
    "Provide the algorithmic efficiency for the following tasks.  Justify your answer.\n",
    "1. Determining whether or not a number exists in a list\n",
    "1. Finding the smallest number in a list\n",
    "1. Determining whether or not two unsorted lists of the same length contain all of the same values (assume no duplicate values)\n",
    "1. Determining whether or not two sorted list contain all of the same values (assume no duplicate values)"
   ]
  },
  {
   "cell_type": "markdown",
   "metadata": {},
   "source": [
    "#### Problem 4 Answer:\n",
    "```python\n",
    "def find_num(n, target):\n",
    "    for i in range(0, len(n)):\n",
    "        if target == n[i]:\n",
    "            return True\n",
    "    return False\n",
    "\n",
    "def find_min(list):\n",
    "    min = list[0]\n",
    "    for i in range(len(list)):\n",
    "        if(list[i] <= min):\n",
    "            min = list[i]\n",
    "    return min\n",
    "```\n",
    "1. Determining whether or not a number exists in a list:\n",
    " + `find_num`: $\\mathcal{O}(N)$:\n",
    " + It runs i time for length of list to find number in list.\n",
    "1. Finding the smallest number in a list:\n",
    " + `find_min(list)`: $\\mathcal{O}(N)$\n",
    " + This is for loop function. So, it runs i time for length of list to find minimum number. \n",
    "1. Determining whether or not two unsorted lists of the same length contain all of the same values:\n",
    " + Two list elements are unsorted, so two loops are used to verify whether each element in list 1 is included in list 2 or whether the list length is the same.\n",
    " + Therefore, $\\mathcal{O}(N^2)$\n",
    "1. Determining whether or not two sorted list contain all of the same values:\n",
    " + One loop is used to identify the corresponding elements of list 1 and list 2 in which the elements in the two lists are sorted.\n",
    " + Therefore, $\\mathcal{O}(N)$"
   ]
  },
  {
   "cell_type": "markdown",
   "metadata": {},
   "source": [
    "### Problem 5 - Implementation (15 pts)\n",
    "Prove that linear search has a time complexity of O(N).\n",
    "\n",
    "To measure the computation time of linear search algorithm, use the following approach:\n",
    "- define a method for linear search algorithms with the syntax: <br>\n",
    "    linear_search(array, target)\n",
    "<br><br>\n",
    "- perform the following steps in your main code:\n",
    "    - Repeat the following steps for N = 1000, 10000, 100000, 1000000, 10000000:\n",
    "        - create an array of sorted integers in the range of 1 through N\n",
    "        - generate a random target value in the range of N/4 and 3N/4\n",
    "        - measure start time\n",
    "        - call linear search with the array and the target value\n",
    "        - measure stop time\n",
    "        - print search index result and computation time (end time - start time)\n",
    "<br><br>\n",
    "- compare the compuation time in relation to array size (N). The comparison can be in the form of console output or Matplotlib plot. \n",
    "\n",
    "<b>Note</b>:\n",
    "- Refer to the lectures on Linear Search and Measuring Time Complexity for reference.\n",
    "- Implement the solution in Python Code cells within the Jupyter Notebook"
   ]
  },
  {
   "cell_type": "markdown",
   "metadata": {},
   "source": [
    "#### Problem 5 Answer:"
   ]
  },
  {
   "cell_type": "markdown",
   "metadata": {},
   "source": [
    "**Linear search** uses for loop to compare the value of the element from the beginning to the end of the array with the value you want to find and return the index of the array where the value you want to find is located.  \n",
    "$T(N) = a * N + b$  \n",
    "Thus, $\\mathcal{O}(N)$.\n",
    "\n"
   ]
  },
  {
   "cell_type": "code",
   "execution_count": 8,
   "metadata": {},
   "outputs": [],
   "source": [
    "# import modules\n",
    "import timeit\n",
    "from random import randint\n",
    "%matplotlib inline\n",
    "import matplotlib.pyplot as plt"
   ]
  },
  {
   "cell_type": "code",
   "execution_count": 9,
   "metadata": {},
   "outputs": [],
   "source": [
    "# function of linear search\n",
    "def linear_search(arr,target):\n",
    "    for i in range(len(arr)):\n",
    "        if arr[i] == target:\n",
    "            return i\n",
    "    return -1"
   ]
  },
  {
   "cell_type": "code",
   "execution_count": 10,
   "metadata": {},
   "outputs": [
    {
     "name": "stdout",
     "output_type": "stream",
     "text": [
      "----------------------------------------------------\n",
      "Computation time of linear search algorithm 5 cases\n",
      "----------------------------------------------------\n",
      "\n",
      "If N = 1000\n",
      "Search index: 532\n",
      "Computation time: 7.590000001300723e-05\n",
      "\n",
      "If N = 10000\n",
      "Search index: 3798\n",
      "Computation time: 0.00023740000000316286\n",
      "\n",
      "If N = 100000\n",
      "Search index: 47174\n",
      "Computation time: 0.0024437000000148146\n",
      "\n",
      "If N = 1000000\n",
      "Search index: 456540\n",
      "Computation time: 0.02588780000002089\n",
      "\n",
      "If N = 10000000\n",
      "Search index: 3086717\n",
      "Computation time: 0.26754629999999224\n"
     ]
    }
   ],
   "source": [
    "# create an array of sorted integers in the range of 1 through N\n",
    "list1 = []\n",
    "for i in range(1000):\n",
    "    list1.append(i + 1)\n",
    "list2 = []\n",
    "for i in range(10000):\n",
    "    list2.append(i + 1)\n",
    "list3 = []\n",
    "for i in range(100000):\n",
    "    list3.append(i + 1)\n",
    "list4 = []\n",
    "for i in range(1000000):\n",
    "    list4.append(i + 1)\n",
    "list5 = []\n",
    "for i in range(10000000):\n",
    "    list5.append(i + 1)\n",
    "    \n",
    "# generate a random target value in the range of N/4 and 3N/4\n",
    "l1_st, l1_end = len(list1) / 4, (3 * len(list1)) / 4\n",
    "l2_st, l2_end = len(list2) / 4, (3 * len(list2)) / 4\n",
    "l3_st, l3_end = len(list3) / 4, (3 * len(list3)) / 4\n",
    "l4_st, l4_end = len(list4) / 4, (3 * len(list4)) / 4\n",
    "l5_st, l5_end = len(list5) / 4, (3 * len(list5)) / 4\n",
    "target1 = randint(int(l1_st), int(l1_end))\n",
    "target2 = randint(int(l2_st), int(l2_end))\n",
    "target3 = randint(int(l3_st), int(l3_end))\n",
    "target4 = randint(int(l4_st), int(l4_end))\n",
    "target5 = randint(int(l5_st), int(l5_end))\n",
    "\n",
    "#print search index result and computation time (Linear Search)\n",
    "print('----------------------------------------------------')\n",
    "print('Computation time of linear search algorithm 5 cases')\n",
    "print('----------------------------------------------------\\n')\n",
    "linstart_time1 = timeit.default_timer()\n",
    "linear_search(list1, target1)\n",
    "linstop_time1 = timeit.default_timer()\n",
    "list1_t = linstop_time1 - linstart_time1\n",
    "print(f'If N = 1000\\nSearch index: {linear_search(list1, target1)}')\n",
    "print('Computation time:', list1_t)\n",
    "\n",
    "linstart_time2 = timeit.default_timer()\n",
    "linear_search(list2, target2)\n",
    "linstop_time2 = timeit.default_timer()\n",
    "list2_t = linstop_time2 - linstart_time2\n",
    "print(f'\\nIf N = 10000\\nSearch index: {linear_search(list2, target2)}')\n",
    "print('Computation time:', list2_t)\n",
    "\n",
    "linstart_time3 = timeit.default_timer()\n",
    "linear_search(list3, target3)\n",
    "linstop_time3 = timeit.default_timer()\n",
    "list3_t = linstop_time3 - linstart_time3\n",
    "print(f'\\nIf N = 100000\\nSearch index: {linear_search(list3, target3)}')\n",
    "print('Computation time:', list3_t)\n",
    "\n",
    "linstart_time4 = timeit.default_timer()\n",
    "linear_search(list4, target4)\n",
    "linstop_time4 = timeit.default_timer()\n",
    "list4_t = linstop_time4 - linstart_time4\n",
    "print(f'\\nIf N = 1000000\\nSearch index: {linear_search(list4, target4)}')\n",
    "print('Computation time:', list4_t)\n",
    "\n",
    "linstart_time5 = timeit.default_timer()\n",
    "linear_search(list5, target5)\n",
    "linstop_time5 = timeit.default_timer()\n",
    "list5_t = linstop_time5 - linstart_time5\n",
    "print(f'\\nIf N = 10000000\\nSearch index: {linear_search(list5, target5)}')\n",
    "print('Computation time:', list5_t)\n"
   ]
  },
  {
   "cell_type": "code",
   "execution_count": 11,
   "metadata": {},
   "outputs": [
    {
     "data": {
      "image/png": "[encoded data removed]",
      "text/plain": [
       "<Figure size 864x864 with 1 Axes>"
      ]
     },
     "metadata": {
      "needs_background": "light"
     },
     "output_type": "display_data"
    }
   ],
   "source": [
    "# The comparison can be in the form of Matplotlib plot. (Linear Search)\n",
    "plt.figure(figsize = (12,12))\n",
    "x = [0, 2, 4, 6, 8]\n",
    "y = [list1_t, list2_t, list3_t, list4_t, list5_t]\n",
    "value = [1000, 10000, 100000, 1000000, 10000000]\n",
    "plt.title('Linear Search\\nComputation time in relation to array size (N)', fontsize = 20)\n",
    "plt.plot(x,y, 'ro')\n",
    "plt.xticks(x,value)\n",
    "plt.xlabel('N Values')\n",
    "plt.ylabel('Compuation Time (sec)')\n",
    "for i, a in enumerate(x):\n",
    "    plt.text(a, y[i], y[i],                \n",
    "             fontsize = 10, \n",
    "             color='blue',\n",
    "             horizontalalignment='center',  \n",
    "             verticalalignment='bottom')    \n",
    "plt.show()"
   ]
  },
  {
   "cell_type": "markdown",
   "metadata": {},
   "source": [
    "When comparing the computation time according to the arrangement size, it may be seen that the computation time is **small** in the order in which the arrangement size is **small**.  \n",
    "\n",
    "Also, it may be seen that **N(10000000)** takes much more time than other arrangements.\n",
    "\n",
    "$$N(1000) < N(10000) < N(100000) < N(100000) < N(10000000)$$"
   ]
  },
  {
   "cell_type": "markdown",
   "metadata": {},
   "source": [
    "### Bonus Problem - Implementation (3 pts)\n",
    "Prove that binary search has a time complexity of O(log N). \n",
    "\n",
    "To measure the computation time of binary search algorithm, use the approach described in Problem #5 above."
   ]
  },
  {
   "cell_type": "markdown",
   "metadata": {},
   "source": [
    "#### Bonus Problem Answer:"
   ]
  },
  {
   "cell_type": "markdown",
   "metadata": {},
   "source": [
    "**Binary search** is initially quick to find values in array because the size of the array to be searched decreases by half as steps pass one by one.  \n",
    "$T(\\frac{n}{2^k}) = T(1)$  \n",
    "Thus, $\\mathcal{O}(log N)$"
   ]
  },
  {
   "cell_type": "code",
   "execution_count": 12,
   "metadata": {},
   "outputs": [],
   "source": [
    "# function of binary search\n",
    "def binary_search(arr, target):\n",
    "    start = 0\n",
    "    end = len(arr) - 1\n",
    "    while start <= end:\n",
    "        mid = (start + end) // 2\n",
    "        if arr[mid] < target:\n",
    "            start = mid + 1\n",
    "        elif arr[mid] > target:\n",
    "            end = mid - 1\n",
    "        else:\n",
    "            return mid\n",
    "    return -1"
   ]
  },
  {
   "cell_type": "code",
   "execution_count": 13,
   "metadata": {},
   "outputs": [
    {
     "name": "stdout",
     "output_type": "stream",
     "text": [
      "----------------------------------------------------\n",
      "Computation time of binary search algorithm 5 cases\n",
      "----------------------------------------------------\n",
      "\n",
      "If N = 1000\n",
      "Search index: 492\n",
      "Computation time: 5.550000003040623e-05\n",
      "\n",
      "If N = 10000\n",
      "Search index: 3694\n",
      "Computation time: 4.999999998744897e-05\n",
      "\n",
      "If N = 100000\n",
      "Search index: 29441\n",
      "Computation time: 4.979999999932261e-05\n",
      "\n",
      "If N = 1000000\n",
      "Search index: 479706\n",
      "Computation time: 5.3200000024844485e-05\n",
      "\n",
      "If N = 10000000\n",
      "Search index: 5228840\n",
      "Computation time: 5.440000001044609e-05\n"
     ]
    }
   ],
   "source": [
    "# create an array of sorted integers in the range of 1 through N\n",
    "list1 = []\n",
    "for i in range(1000):\n",
    "    list1.append(i + 1)\n",
    "list2 = []\n",
    "for i in range(10000):\n",
    "    list2.append(i + 1)\n",
    "list3 = []\n",
    "for i in range(100000):\n",
    "    list3.append(i + 1)\n",
    "list4 = []\n",
    "for i in range(1000000):\n",
    "    list4.append(i + 1)\n",
    "list5 = []\n",
    "for i in range(10000000):\n",
    "    list5.append(i + 1)\n",
    "\n",
    "# generate a random target value in the range of N/4 and 3N/4\n",
    "l1_st, l1_end = len(list1) / 4, (3 * len(list1)) / 4\n",
    "l2_st, l2_end = len(list2) / 4, (3 * len(list2)) / 4\n",
    "l3_st, l3_end = len(list3) / 4, (3 * len(list3)) / 4\n",
    "l4_st, l4_end = len(list4) / 4, (3 * len(list4)) / 4\n",
    "l5_st, l5_end = len(list5) / 4, (3 * len(list5)) / 4\n",
    "target1 = randint(int(l1_st), int(l1_end))\n",
    "target2 = randint(int(l2_st), int(l2_end))\n",
    "target3 = randint(int(l3_st), int(l3_end))\n",
    "target4 = randint(int(l4_st), int(l4_end))\n",
    "target5 = randint(int(l5_st), int(l5_end))\n",
    "\n",
    "#print search index result and computation time (Binary Search)\n",
    "print('----------------------------------------------------')\n",
    "print('Computation time of binary search algorithm 5 cases')\n",
    "print('----------------------------------------------------\\n')\n",
    "start_time1 = timeit.default_timer()\n",
    "binary_search(list1, target1)\n",
    "stop_time1 = timeit.default_timer()\n",
    "blist1_t = stop_time1 - start_time1\n",
    "print(f'If N = 1000\\nSearch index: {binary_search(list1, target1)}')\n",
    "print('Computation time:', blist1_t)\n",
    "\n",
    "start_time2 = timeit.default_timer()\n",
    "binary_search(list2, target2)\n",
    "stop_time2 = timeit.default_timer()\n",
    "blist2_t = stop_time2 - start_time2\n",
    "print(f'\\nIf N = 10000\\nSearch index: {binary_search(list2, target2)}')\n",
    "print('Computation time:', blist2_t)\n",
    "\n",
    "start_time3 = timeit.default_timer()\n",
    "binary_search(list3, target3)\n",
    "stop_time3 = timeit.default_timer()\n",
    "blist3_t = stop_time3 - start_time3\n",
    "print(f'\\nIf N = 100000\\nSearch index: {binary_search(list3, target3)}')\n",
    "print('Computation time:', blist3_t)\n",
    "\n",
    "start_time4 = timeit.default_timer()\n",
    "binary_search(list4, target4)\n",
    "stop_time4 = timeit.default_timer()\n",
    "blist4_t = stop_time4 - start_time4\n",
    "print(f'\\nIf N = 1000000\\nSearch index: {binary_search(list4, target4)}')\n",
    "print('Computation time:', blist4_t)\n",
    "\n",
    "start_time5 = timeit.default_timer()\n",
    "binary_search(list5, target5)\n",
    "stop_time5 = timeit.default_timer()\n",
    "blist5_t = stop_time5 - start_time5\n",
    "print(f'\\nIf N = 10000000\\nSearch index: {binary_search(list5, target5)}')\n",
    "print('Computation time:', blist5_t)\n"
   ]
  },
  {
   "cell_type": "code",
   "execution_count": 14,
   "metadata": {},
   "outputs": [
    {
     "data": {
      "image/png": "[encoded data removed]",
      "text/plain": [
       "<Figure size 864x864 with 1 Axes>"
      ]
     },
     "metadata": {
      "needs_background": "light"
     },
     "output_type": "display_data"
    }
   ],
   "source": [
    "# The comparison can be in the form of Matplotlib plot. (Binary Search)\n",
    "plt.figure(figsize = (12,12))\n",
    "x = [0, 2, 4, 6, 8]\n",
    "y = [blist1_t, blist2_t, blist3_t, blist4_t, blist5_t]\n",
    "value = [1000, 10000, 100000, 1000000, 10000000]\n",
    "plt.title('Binary Search\\nComputation time in relation to array size (N)', fontsize = 20)\n",
    "plt.plot(x,y, 'o')\n",
    "plt.xticks(x,value)\n",
    "plt.xlabel('N Values')\n",
    "plt.ylabel('Compuation Time (sec)')\n",
    "for i, a in enumerate(x):\n",
    "    plt.text(a, y[i], y[i],                \n",
    "             fontsize = 10, \n",
    "             color='green',\n",
    "             horizontalalignment='center',  \n",
    "             verticalalignment='bottom')    \n",
    "plt.show()"
   ]
  },
  {
   "cell_type": "markdown",
   "metadata": {},
   "source": [
    "When comparing the computation time according to the arrangement size, it can be seen that the time required is different regardless of the arrangement size. \n",
    "However, it can be seen that the **computation times of the five arrays are similar**. In addition, the compilation time was **significantly reduced compared to when linear search was performed**."
   ]
  },
  {
   "cell_type": "markdown",
   "metadata": {},
   "source": [
    "## Submitting Assignments\n",
    "1.\tUse the Blackboard tool https://learn.wsu.edu to submit your assignment. You will submit your solution to the corresponding programming assignment under the \"Content\" tab. You must upload your solutions as `<your last name>_ma4.zip` by the due date and time.\n",
    "2.\tYour .zip file should contain your <b>.ipynb</b> file and a <b>.html</b> file representing your Notebook as a webpage (File->Download as->HTML)."
   ]
  },
  {
   "cell_type": "markdown",
   "metadata": {},
   "source": [
    "## Grading Guidelines\n",
    "This assignment is worth (50 + 3) points. Your assignment will be evaluated based on adherence to the requirements. See each problem above for individual problem point values. In addition, we will grade according to the following criteria:\n",
    "* 47 pts for correct answers to all the questions\n",
    "* 3 pts for for adherence to proper programming style and comments established for the class\n",
    "* 3 pts for correct answer to the bonus question"
   ]
  }
 ],
 "metadata": {
  "anaconda-cloud": {},
  "kernelspec": {
   "display_name": "Python 3 (ipykernel)",
   "language": "python",
   "name": "python3"
  },
  "language_info": {
   "codemirror_mode": {
    "name": "ipython",
    "version": 3
   },
   "file_extension": ".py",
   "mimetype": "text/x-python",
   "name": "python",
   "nbconvert_exporter": "python",
   "pygments_lexer": "ipython3",
   "version": "3.9.5"
  },
  "toc": {
   "base_numbering": 1,
   "nav_menu": {},
   "number_sections": true,
   "sideBar": true,
   "skip_h1_title": false,
   "title_cell": "Table of Contents",
   "title_sidebar": "Contents",
   "toc_cell": false,
   "toc_position": {
    "height": "calc(100% - 180px)",
    "left": "10px",
    "top": "150px",
    "width": "160.637px"
   },
   "toc_section_display": true,
   "toc_window_display": false
  }
 },
 "nbformat": 4,
 "nbformat_minor": 1
}

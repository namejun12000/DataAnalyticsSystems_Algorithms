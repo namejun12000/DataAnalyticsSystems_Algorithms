{
 "cells": [
  {
   "cell_type": "markdown",
   "metadata": {},
   "source": [
    "# [CptS 215 Data Analytics Systems and Algorithms](https://piazza.com/wsu/fall2017/cpts215/home)\n",
    "[Washington State University](https://wsu.edu)\n",
    "\n",
    "[Srini Badri](https://school.eecs.wsu.edu/people/faculty/), [Gina Sprint](http://eecs.wsu.edu/~gsprint/)\n",
    "\n",
    "## MA5 Tree Practice (50 pts)\n",
    "\n",
    "<mark>Author: Nam Jun Lee</mark>\n",
    "\n",
    "<mark>Date: November 1st, 2021</mark>\n",
    "\n",
    "### Learner Objectives\n",
    "At the conclusion of this micro assignment, participants should be able to:\n",
    "* Implement/analyze trees\n",
    "    * Binary trees\n",
    "    * Binary search trees\n",
    "    * AVL trees\n",
    "\n",
    "### Prerequisites\n",
    "Before starting this micro assignment, participants should be able to:\n",
    "* Write object oriented Python code\n",
    "* Write Markdown and code cells in Jupyter Notebook\n",
    "* Perform algorithm analysis\n",
    "\n",
    "### Acknowledgments\n",
    "Content used in this assignment is based upon information in the following sources:\n",
    "* [Data Structures: Abstraction and Design Using Java](http://www.wiley.com/WileyCDA/WileyTitle/productCd-EHEP001607.html) by Koffman and Wolfgang"
   ]
  },
  {
   "cell_type": "markdown",
   "metadata": {
    "collapsed": true
   },
   "source": [
    "## Overview and Requirements\n",
    "For this micro assignment, you are going to download this Jupyter Notebook and answer the following questions. Your answer for a problem should be in a cell *immediately* after the problem cell. *Do not modify the problem cell.*\n",
    "\n",
    "We are going to solve several problems related to trees and their efficiency. This micro assignment includes conceptional questions and programming.\n",
    "\n",
    "### Conceptual Questions (38 pts)\n",
    "Solve the following problems and *justify* your answers:"
   ]
  },
  {
   "cell_type": "markdown",
   "metadata": {},
   "source": [
    "#### 1. For the following binary tree:\n",
    "<img src=\"https://raw.githubusercontent.com/gsprint23/cpts215/master/microassignments/figures/ma5_tree.png\" width=\"400\"/>\n",
    "\n",
    "   1. (2 pts) Is the tree full?  \n",
    "   1. (2 pts) Is the tree complete? \n",
    "   1. (2 pts) What is the tree's height? \n",
    "   1. List the nodes in the tree in the order they would be visited during a: \n",
    "        1. (4 pts) Pre-order traversal\n",
    "        1. (4 pts) Level-order traversal\n",
    "        1. (4 pts) Post-order traversal\n",
    "        1. (4 pts) In-order traversal"
   ]
  },
  {
   "cell_type": "markdown",
   "metadata": {},
   "source": [
    "#### Question 1 Answer:\n",
    "\n",
    "1. Following binary tree:\n",
    "    \n",
    "  1. Is the tree full?  \n",
    "     + This binary tree is filled with the bottom level full.\n",
    "     + Thus, `Yes` \n",
    "  1. Is the tree complete?  \n",
    "     + This binary tree is full of nodes at the lower level and is filled with nodes from left to right within the same level.\n",
    "     + Thus, `Yes`  \n",
    "  1. What is the tree's height?  \n",
    "     + It is called increasing the maximum value of the leaf level. The level of the root is zero, and each time the branch goes down one by one, the level increases by one.   \n",
    "     + Therefore, the height of this binary tree is `3`.  \n",
    "  1. List the nodes in the tree in the order they would be visited during a:  \n",
    "     1. Pre-order traversal:  \n",
    "          * The pre-order starts with the root and visits the current node to perform tasks on the data. Visiting working from left to right. (Node - Left children - Right children)  \n",
    "          * Thus, `*, A, 1, X, Y, 2, B, 3, 4`  \n",
    "     1. Level-order traversal: \n",
    "          * The level-order starts with the root, visit all of the nodes on the current level left to right, then move to the lower level.  \n",
    "          * Thus, `*, A, B, 1, 2, 3, 4, X, Y`  \n",
    "     1. Post-order traversal:  \n",
    "          * The post-order starts with the root, visit all children first, then visit the node and do something with the data. (Left children - Right children - Node)  \n",
    "          * Thus, `X, Y, 1, 2, A, 3, 4, B, *`  \n",
    "     1. In-order traversal:  \n",
    "          * The in-order starts with the root, visit all the children on the left children on the left. If all the left sub-items of the node have visited, visit the children on the right. (Left children - Node - Right children)  \n",
    "          * Thus, `X, 1, Y, A, 2, *, 3, B, 4`"
   ]
  },
  {
   "cell_type": "markdown",
   "metadata": {},
   "source": [
    "#### 2. (2 pts) What is the time complexity to search a full BST?"
   ]
  },
  {
   "cell_type": "markdown",
   "metadata": {},
   "source": [
    "#### Question 2 Answer:\n",
    "\n",
    "The time complexity for searching for the full BST is $\\mathcal{O}(log N)$. However, in the worst case, it can vary depending on the height of the tree because it searches to the Leaf node $\\mathcal{O}(h)$.  \n",
    "* Thus, $\\mathcal{O}(log N)$ OR $\\mathcal{O}(h)$"
   ]
  },
  {
   "cell_type": "markdown",
   "metadata": {},
   "source": [
    "#### 3. The following questions refer to the same BST. The operations are cumulative:\n",
    "   A. (2 pts) Show the BST that would result from inserting the items 35, 20, 30, 50, 45, 60, 18, 25 in this sequence.  \n",
    "   B. (2 pts) Show the BST that would result after removing item 35 (promote in order successor).  \n",
    "   C. (2 pts) Show the BST that would result after removing item 18 (promote in order successor).  \n",
    "   D. (2 pts) How would the trees in the previous problems look differently if we promote in order predecessors instead of successors?  "
   ]
  },
  {
   "cell_type": "markdown",
   "metadata": {},
   "source": [
    "#### Question 3 Answer:\n",
    "\n",
    "3. following questions refer to the same BST:  \n",
    "    1. Show the BST that would result from inserting the items 35, 20, 30, 50, 45, 60, 18, 25 in this sequence:  \n",
    "                       \n",
    "                    [35]\n",
    "                 /        \\\n",
    "               [20]      [50]\n",
    "              /    \\    /    \\\n",
    "            [18] [30] [45] [60]\n",
    "                  /  \n",
    "               [25]\n",
    "               \n",
    "    1. Show the BST that would result after removing item 35 (promote in order successor):  \n",
    "                     \n",
    "                    [45]\n",
    "                 /        \\\n",
    "               [20]      [50]\n",
    "              /    \\         \\ \n",
    "            [18]  [30]        [60]\n",
    "                  /\n",
    "                [25]\n",
    "                \n",
    "    1. Show the BST that would result after removing item 18 (promote in order successor):  \n",
    "    \n",
    "                    [45]\n",
    "                 /        \\\n",
    "               [20]      [50]\n",
    "                   \\         \\\n",
    "                   [30]      [60]\n",
    "                  /\n",
    "                [25]                                                                                               \n",
    "    1. How would the trees in the previous problems look differently if we promote in order predecessors instead of successors?\n",
    "    \n",
    "        * Show the BST that would result after removing item 35:\n",
    "\n",
    "                        [30]\n",
    "                     /        \\\n",
    "                   [20]      [50]\n",
    "                  /    \\    /    \\\n",
    "                [18]  [25] [45]  [60]\n",
    "\n",
    "        * Show the BST that would result after removing item 18:\n",
    "\n",
    "                        [30]\n",
    "                     /        \\\n",
    "                   [20]       [50]\n",
    "                       \\     /    \\\n",
    "                      [25] [45]   [60]  \n",
    " "
   ]
  },
  {
   "cell_type": "markdown",
   "metadata": {},
   "source": [
    "#### 4. (3 pts) Given the following tree, perform the appropriate rotations to bring it back into balance:\n",
    "\n",
    "<img src=\"https://runestone.academy/runestone/books/published/pythonds/_images/rotexer1.png\" width=\"200\"/>  \n",
    "(image from [https://runestone.academy/runestone/books/published/pythonds/_images/rotexer1.png])\n"
   ]
  },
  {
   "cell_type": "markdown",
   "metadata": {},
   "source": [
    "#### Question 4 Answer:\n",
    "Perform the appropriate rotations to bring it back into balance:\n",
    "\n",
    "Given tree:  \n",
    "                 \n",
    "                [B(-2)]\n",
    "               /       \\\n",
    "            [A(0)]    [E(1)]\n",
    "                     /      \\\n",
    "                  [D(1)]  [F(0)]\n",
    "                 /\n",
    "              [C(0)]  \n",
    "\n",
    "Right rotation:  \n",
    "       \n",
    "               [B(-2)]\n",
    "              /       \\\n",
    "           [A(0)]    [D(-1)]\n",
    "                    /      \\\n",
    "                 [C(0)]   [E(-1)] \n",
    "                                \\\n",
    "                               [F(0)] \n",
    "                             \n",
    "Left rotation:\n",
    "\n",
    "              [D(0)]\n",
    "             /       \\\n",
    "         [B(0)]     [E(-1)]\n",
    "        /     \\           \\\n",
    "     [A(0)] [C(0)]       [F(0)]  "
   ]
  },
  {
   "cell_type": "markdown",
   "metadata": {},
   "source": [
    "#### 5. (3 pts) Give the function calls of `BinaryTree` class (from lecture notes) to build the following tree:\n",
    "\n",
    "<img src=\"https://runestone.academy/runestone/books/published/pythonds/_images/exerTree.png\" width=\"450\"/>\n",
    "\n",
    "(image from [https://runestone.academy/runestone/books/published/pythonds/_images/exerTree.png])"
   ]
  },
  {
   "cell_type": "markdown",
   "metadata": {},
   "source": [
    "#### Question 5 Answer:\n",
    "Using BinaryTree class (from lecture notes) to build the following tree:"
   ]
  },
  {
   "cell_type": "code",
   "execution_count": 60,
   "metadata": {},
   "outputs": [],
   "source": [
    "# a class representing a BinaryTree\n",
    "class BinaryTree:\n",
    "    def __init__(self, root_data=None, left_child=None, right_child=None):\n",
    "        self.root_data = root_data\n",
    "        self.left_child = left_child\n",
    "        self.right_child = right_child\n",
    "\n",
    "    # if root is empy then return True\n",
    "    def is_empty(self):\n",
    "        return self.root_data is None\n",
    "    \n",
    "    # insert child to left\n",
    "    def insert_left(self, new_data):\n",
    "        if self.left_child is None:\n",
    "            self.left_child = BinaryTree(new_data)\n",
    "        else:\n",
    "            temp = BinaryTree(new_data)\n",
    "            temp.left_child = self.left_child\n",
    "            self.left_child = temp\n",
    "    \n",
    "    # insert child to right\n",
    "    def insert_right(self, new_data):\n",
    "        if self.right_child is None:\n",
    "            self.right_child = BinaryTree(new_data)\n",
    "        else:\n",
    "            temp = BinaryTree(new_data)\n",
    "            temp.right_child = self.right_child\n",
    "            self.right_child = temp\n",
    "    \n",
    "    # traversal by level\n",
    "    def level_order_traversal(self):\n",
    "        if not self.is_empty():\n",
    "            lst = [self.root_data]\n",
    "            self.level_order_helper(self, lst)\n",
    "            for l in lst:\n",
    "                print(l, end=\" -> \")\n",
    "            print()\n",
    "        else:\n",
    "            print(\"Empty tree\")\n",
    "    \n",
    "    # help traversal by level\n",
    "    def level_order_helper(self, val, lv):\n",
    "        if val is not None:\n",
    "            if val.left_child is not None:\n",
    "                lv.append(val.left_child.root_data)\n",
    "            if val.right_child is not None:\n",
    "                lv.append(val.right_child.root_data)\n",
    "            self.level_order_helper(val.left_child, lv)\n",
    "            self.level_order_helper(val.right_child, lv)\n",
    "\n"
   ]
  },
  {
   "cell_type": "code",
   "execution_count": 61,
   "metadata": {},
   "outputs": [
    {
     "name": "stdout",
     "output_type": "stream",
     "text": [
      "Level-order traversal:\n",
      "language -> compiled -> interpreted -> C -> Java -> Python -> Scheme -> \n"
     ]
    }
   ],
   "source": [
    "# instance method\n",
    "tree = BinaryTree(root_data='language')\n",
    "# insert the content given to the question and test it.\n",
    "tree.insert_left('Java')\n",
    "tree.insert_left('C')\n",
    "tree.insert_right('Scheme')\n",
    "tree.insert_right('Python')\n",
    "tree.insert_right('interpreted')\n",
    "tree.insert_left('compiled')\n",
    "\n",
    "print(\"Level-order traversal:\")\n",
    "tree.level_order_traversal()"
   ]
  },
  {
   "cell_type": "markdown",
   "metadata": {},
   "source": [
    "### Implementation Question (10 pts)\n",
    "\n",
    "Implement a Binary Search Tree data structure using the code provided in the lecture notes or <i>Miller and Ranum</i> textbook. Update the implementation as described below:\n",
    "* (9 pts) Add `pre_order_traversal()` and `post_order_traversal()` methods to print the `key` and `value` pairs in preorder and postorder respectively. \n",
    "* (1 pts) Include curly brackets `{ }` and commas seperator `,` in the print results.\n",
    "\n",
    "Test your implementation using the following sequence of code:"
   ]
  },
  {
   "cell_type": "markdown",
   "metadata": {},
   "source": [
    "#### Implementation Question Answer\n",
    "Using the code provided in the lecture notes & Miller and Ranum textbook."
   ]
  },
  {
   "cell_type": "code",
   "execution_count": 62,
   "metadata": {},
   "outputs": [],
   "source": [
    "# a class representing a BSTNode\n",
    "class BSTNode:\n",
    "    def __init__(self, key, val, left=None, right=None, parent=None):\n",
    "        self.key = key\n",
    "        self.value = val\n",
    "        self.left_child = left\n",
    "        self.right_child = right\n",
    "        self.parent = parent\n",
    "\n",
    "    def __iter__(self):\n",
    "        if self:\n",
    "            if self.has_left_child():\n",
    "                for elem in self.left_child:\n",
    "                    yield elem\n",
    "            yield self.key\n",
    "            if self.has_right_child():\n",
    "                for elem in self.right_child:\n",
    "                    yield elem\n",
    "    \n",
    "    def has_left_child(self):\n",
    "        return self.left_child\n",
    "\n",
    "    def has_right_child(self):\n",
    "        return self.right_child\n",
    "\n",
    "# a class representing a BinarySearchTree\n",
    "class BinarySearchTree:\n",
    "    def __init__(self):\n",
    "        self.root = None\n",
    "        self.size = 0\n",
    "\n",
    "    def __iter__(self):\n",
    "        return self.root.__iter__()\n",
    "    \n",
    "    # put key and value in tree\n",
    "    def put(self, key, val):\n",
    "        if self.root:\n",
    "            self._put(key, val, self.root)\n",
    "        else:\n",
    "            self.root = BSTNode(key, val)\n",
    "        self.size = self.size + 1\n",
    "    \n",
    "    # help put function\n",
    "    def _put(self, key, val, current_node):\n",
    "        if key == current_node.key:  # handle duplicates by updating value\n",
    "            current_node.value = val\n",
    "        elif key < current_node.key:\n",
    "            if current_node.has_left_child():\n",
    "                self._put(key, val, current_node.left_child)\n",
    "            else:\n",
    "                current_node.left_child = BSTNode(key, val, parent=current_node)\n",
    "        else:\n",
    "            if current_node.has_right_child():\n",
    "                self._put(key, val, current_node.right_child)\n",
    "            else:\n",
    "                current_node.right_child = BSTNode(key, val, parent=current_node)\n",
    "    \n",
    "    # update pre_order_traversal() methods to print the key and value pairs in preorder\n",
    "    def pre_order_traversal(self):\n",
    "        if self.size > 0:\n",
    "            self.pre_order_helper(self.root)\n",
    "            print()\n",
    "        else:\n",
    "            print(\"Empty Tree\")\n",
    "    \n",
    "    # help pre-order traversal function; include curly brackets { } and commas seperator , in the print results.\n",
    "    def pre_order_helper(self, current_node):\n",
    "        if current_node is not None:\n",
    "            print(\"{\" + str(current_node.key) + \":\" + str(current_node.value) + \"}\", end=\", \")\n",
    "            self.pre_order_helper(current_node.left_child)\n",
    "            self.pre_order_helper(current_node.right_child)\n",
    "\n",
    "    # update post_order_traversal() methods to print the key and value pairs in postorder\n",
    "    def post_order_traversal(self):\n",
    "        if self.size > 0:\n",
    "            self.post_order_helper(self.root)\n",
    "            print()\n",
    "        else:\n",
    "            print(\"Empty Tree\")\n",
    "            \n",
    "    # help pre-order traversal function; include curly brackets { } and commas seperator , in the print results.\n",
    "    def post_order_helper(self, current_node):\n",
    "        if current_node is not None:\n",
    "            self.post_order_helper(current_node.left_child)\n",
    "            self.post_order_helper(current_node.right_child)\n",
    "            print(\"{\" + str(current_node.key) + \":\" + str(current_node.value) + \"}\", end=\", \")"
   ]
  },
  {
   "cell_type": "code",
   "execution_count": 63,
   "metadata": {},
   "outputs": [],
   "source": [
    "# instance method\n",
    "myTree = BinarySearchTree()"
   ]
  },
  {
   "cell_type": "code",
   "execution_count": 64,
   "metadata": {},
   "outputs": [
    {
     "name": "stdout",
     "output_type": "stream",
     "text": [
      "Pre-order traversal:\n",
      "\n",
      "{122:C++ Data Structures}, {115:Intro to DA}, {121:C Programming}, {131:Java Programming}, {215:Data Structures & Algorithms}, {132:Java Data Structures}, \n",
      "\n",
      "Post-order traversal:\n",
      "\n",
      "{121:C Programming}, {115:Intro to DA}, {132:Java Data Structures}, {215:Data Structures & Algorithms}, {131:Java Programming}, {122:C++ Data Structures}, \n"
     ]
    }
   ],
   "source": [
    "# Test code for pre-order and post-order traversal methods\n",
    "myTree.put(122, \"C++ Data Structures\")\n",
    "myTree.put(131, \"Java Programming\")\n",
    "myTree.put(115, \"Intro to DA\")\n",
    "myTree.put(215, \"Data Structures & Algorithms\")\n",
    "myTree.put(121, \"C Programming\")\n",
    "myTree.put(132, \"Java Data Structures\")\n",
    "\n",
    "print('Pre-order traversal:\\n')\n",
    "myTree.pre_order_traversal()\n",
    "print('\\nPost-order traversal:\\n')\n",
    "myTree.post_order_traversal()"
   ]
  },
  {
   "cell_type": "markdown",
   "metadata": {},
   "source": [
    "Here is the expected print output for pre_order_traversal() method:\n",
    "\n",
    "<i>{122:C++ Data Structures, 115:Intro to DA, 121:C Programming, 131:Java Programming, 215:Data Structures & Algorithms, 132:Java Data Structures}</i>\n",
    "\n",
    "\n",
    "Here is the expected print output for post_order_travesal() method:\n",
    "\n",
    "<i>{121:C Programming, 115:Intro to DA, 132:Java Data Structures, 215:Data Structures & Algorithms, 131:Java Programming, 122:C++ Data Structures}</i>"
   ]
  },
  {
   "cell_type": "markdown",
   "metadata": {},
   "source": [
    "## Submitting Assignments\n",
    "1.\tUse the Blackboard tool https://learn.wsu.edu to submit your assignment. You will submit your code to the corresponding programming assignment under the \"Content\" tab. You must upload your solutions as `<your last name>_ma5.zip` by the due date and time.\n",
    "2.\tYour .zip file should contain your .ipynb file and a .html file representing your Notebook as a webpage (File->Download as->HTML)."
   ]
  },
  {
   "cell_type": "markdown",
   "metadata": {},
   "source": [
    "## Grading Guidelines\n",
    "This assignment is worth 50 points. Your assignment will be evaluated based on a successful compilation and adherence to the program requirements. We will grade according to the following criteria:\n",
    "* 38 pts for correct answers to the conception questions\n",
    "* 10 pts for correct implementation of Binary Search Tree `pre_order_traversal()` and `post_order_traversal()` methods\n",
    "* 2 pts for for adherence to proper programming style and comments established for the class"
   ]
  }
 ],
 "metadata": {
  "anaconda-cloud": {},
  "kernelspec": {
   "display_name": "Python 3 (ipykernel)",
   "language": "python",
   "name": "python3"
  },
  "language_info": {
   "codemirror_mode": {
    "name": "ipython",
    "version": 3
   },
   "file_extension": ".py",
   "mimetype": "text/x-python",
   "name": "python",
   "nbconvert_exporter": "python",
   "pygments_lexer": "ipython3",
   "version": "3.9.5"
  }
 },
 "nbformat": 4,
 "nbformat_minor": 1
}
